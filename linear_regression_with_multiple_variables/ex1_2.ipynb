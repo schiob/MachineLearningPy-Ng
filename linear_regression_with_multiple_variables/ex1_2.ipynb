{
 "metadata": {
  "name": "",
  "signature": "sha256:9ec548e7892733766457cc28c028176cc358276c215f927df285a717a9e945c1"
 },
 "nbformat": 3,
 "nbformat_minor": 0,
 "worksheets": [
  {
   "cells": [
    {
     "cell_type": "code",
     "collapsed": false,
     "input": [
      "%matplotlib inline"
     ],
     "language": "python",
     "metadata": {},
     "outputs": [],
     "prompt_number": 1
    },
    {
     "cell_type": "code",
     "collapsed": false,
     "input": [
      "# -*- coding: utf-8 -*-\n",
      "\n",
      "\"\"\"\n",
      "Author: Santiago Chio\n",
      "Solution to Exercise 1.2 of Andrew Ng's Machine Learning course on Coursera\n",
      "Linear regression with multiple variables\n",
      "\"\"\"\n",
      "\n",
      "import numpy as np\n",
      "import matplotlib.pyplot as plt\n",
      "\n",
      "DATAFILE = 'ex1data2.txt'\n",
      "ALPHA = 0.1\n",
      "\n",
      "def load_data(file_name):\n",
      "    \"\"\"\n",
      "    Read a file and return the data for x and y\n",
      "    Args:\n",
      "        file_name: the name of the file.\n",
      "    Returns:\n",
      "        a tuple with 2 numpy arrays: x and y.\n",
      "    \"\"\"\n",
      "    x = [[],[]]\n",
      "    y = list()\n",
      "    with open(file_name, 'r') as f:\n",
      "        for row in f:\n",
      "            ite = map(float, row.split(','))\n",
      "            x[0].append(next(ite))\n",
      "            x[1].append(next(ite))\n",
      "            y.append(next(ite))\n",
      "    return (np.array(x), np.array(y))\n",
      "\n",
      "def feature_normal(x):\n",
      "    \"\"\"\n",
      "    Return the array with the features normalized\n",
      "    \"\"\"\n",
      "    mean_x = np.mean(x, axis=1)\n",
      "    min_x = np.amin(x, axis=1)\n",
      "    max_x = np.amax(x, axis=1)\n",
      "    ran = max_x - min_x\n",
      "    return np.array([(arr-mean)/ran for arr, mean, ran in zip(x, mean_x, ran)])\n",
      "\n",
      "def gradient_descent(x, y, theta, m):\n",
      "    \"\"\"\n",
      "    Use the batch gradient descent and return the theta vector\n",
      "    \"\"\"\n",
      "    delta = 1. / m * (np.sum((theta.dot(x) - y) * x, axis=1))\n",
      "    return theta - ALPHA * delta\n",
      "    \n",
      "def cost(x, y, theta, m):\n",
      "    return (1. / (2*m)) * np.sum((theta.dot(x) - y)**2)\n",
      "\n",
      "def visualice(theta, cost):\n",
      "    print('theta {}\\ncost {}\\n\\n'.format(theta, cost))\n",
      "    \n",
      "def plot_cost(c):\n",
      "    \"\"\"\n",
      "    Visualice the cost function in a plot\n",
      "    \"\"\"\n",
      "    plt.plot([n for n in range(len(c))], c, 'b-')\n",
      "    plt.ylabel('Cost J')\n",
      "    plt.xlabel('iteration')\n",
      "    plt.show()\n",
      "\n",
      "def main():\n",
      "    ## ------Get the data-------\n",
      "    x, y = load_data(DATAFILE)\n",
      "    \n",
      "    ## ------Gradient descent------\n",
      "    m = y.size # Number of cases\n",
      "    x = feature_normal(x)\n",
      "    x = np.vstack((np.ones(m), x)) # Adding a column of ones\n",
      "    theta = np.zeros(x.shape[0]) # Initial theta\n",
      "    past_cost = cost(x, y, theta, m)    \n",
      "    visualice(theta, past_cost)\n",
      "    # -----Record of the cost J-------\n",
      "    c = list()\n",
      "    c.append(past_cost)\n",
      "    \n",
      "    # -----First iteration----\n",
      "    theta = gradient_descent(x, y, theta, m)\n",
      "    new_cost = cost(x, y, theta, m)\n",
      "    visualice(theta, new_cost)\n",
      "    \n",
      "    # -----Implementing gradient_descent-----\n",
      "    while past_cost != new_cost:\n",
      "        theta = gradient_descent(x, y, theta, m)\n",
      "        past_cost, new_cost = new_cost, cost(x, y, theta, m)\n",
      "        c.append(past_cost)\n",
      "    visualice(theta, new_cost)\n",
      "    plot_cost(c)\n",
      "\n",
      "if __name__ == '__main__':\n",
      "    main()"
     ],
     "language": "python",
     "metadata": {},
     "outputs": [
      {
       "output_type": "stream",
       "stream": "stdout",
       "text": [
        "theta [ 0.  0.  0.]\n",
        "cost 65591548106.45744\n",
        "\n",
        "\n",
        "theta [ 34041.26595745   2293.21673252   1029.67857628]\n",
        "cost 54519879663.86159\n",
        "\n",
        "\n",
        "theta [ 340412.65957447  504777.7822487   -34951.9199867 ]\n",
        "cost 2043280050.6031759\n",
        "\n"
       ]
      },
      {
       "output_type": "stream",
       "stream": "stdout",
       "text": [
        "\n"
       ]
      },
      {
       "metadata": {},
       "output_type": "display_data",
       "png": "[encoded data removed]",
       "text": [
        "<matplotlib.figure.Figure at 0x7fee1db35c50>"
       ]
      }
     ],
     "prompt_number": 62
    },
    {
     "cell_type": "code",
     "collapsed": false,
     "input": [],
     "language": "python",
     "metadata": {},
     "outputs": []
    }
   ],
   "metadata": {}
  }
 ]
}