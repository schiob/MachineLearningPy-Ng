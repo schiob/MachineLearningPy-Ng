{
 "metadata": {
  "name": "",
  "signature": "sha256:ed6979713fa6f7138d048df541a9840186636127716875beda1627c071405304"
 },
 "nbformat": 3,
 "nbformat_minor": 0,
 "worksheets": [
  {
   "cells": [
    {
     "cell_type": "code",
     "collapsed": false,
     "input": [
      "# -*- coding: utf-8 -*-\n",
      "\n",
      "\"\"\"\n",
      "Author: Santiago Chio\n",
      "Solution to Exercise 1.3 of Andrew Ng's Machine Learning course on Coursera\n",
      "Normal Ecuation\n",
      "\"\"\"\n",
      "\n",
      "import numpy as np\n",
      "\n",
      "DATAFILE = 'ex1data2.txt'\n",
      "\n",
      "def load_data(file_name):\n",
      "    \"\"\"\n",
      "    Read a file and return the data for x and y\n",
      "    Args:\n",
      "        file_name: the name of the file.\n",
      "    Returns:\n",
      "        a tuple with 2 numpy arrays: x and y.\n",
      "    \"\"\"\n",
      "    x = list()\n",
      "    y = list()\n",
      "    with open(file_name, 'r') as f:\n",
      "        for row in f:\n",
      "            ite = map(float, row.split(','))\n",
      "            x.append([next(ite), next(ite)])\n",
      "            y.append(next(ite))\n",
      "    return (np.array(x), np.array(y))\n",
      "\n",
      "def main():\n",
      "    ## ------Get the data-------\n",
      "    x, y = load_data(DATAFILE)\n",
      "    print(x.shape)\n",
      "    x = np.hstack((np.ones((x.shape[0],1)), x))\n",
      "    theta = np.linalg.pinv(np.transpose(x).dot(x)).dot(np.transpose(x).dot(y))\n",
      "    print(theta)\n",
      "    \n",
      "if __name__ == '__main__':\n",
      "    main()"
     ],
     "language": "python",
     "metadata": {},
     "outputs": [
      {
       "output_type": "stream",
       "stream": "stdout",
       "text": [
        "(47, 2)\n",
        "[ 89597.90954435    139.21067402  -8738.01911278]\n"
       ]
      }
     ],
     "prompt_number": 37
    },
    {
     "cell_type": "code",
     "collapsed": false,
     "input": [],
     "language": "python",
     "metadata": {},
     "outputs": []
    }
   ],
   "metadata": {}
  }
 ]
}